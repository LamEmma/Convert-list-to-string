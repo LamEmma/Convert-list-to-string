{
  "cells": [
    {
      "cell_type": "markdown",
      "metadata": {
        "id": "view-in-github",
        "colab_type": "text"
      },
      "source": [
        "<a href=\"https://colab.research.google.com/github/LamEmma/Convert-list-to-string/blob/main/Tuan_02_Vi_Du_Two_Tailed_Test.ipynb\" target=\"_parent\"><img src=\"https://colab.research.google.com/assets/colab-badge.svg\" alt=\"Open In Colab\"/></a>"
      ]
    },
    {
      "cell_type": "markdown",
      "id": "5bb4c74f",
      "metadata": {
        "id": "5bb4c74f"
      },
      "source": [
        "# Bài toán"
      ]
    },
    {
      "cell_type": "markdown",
      "id": "0b4e78cb",
      "metadata": {
        "id": "0b4e78cb"
      },
      "source": [
        "Giả sử dữ liệu của năm 2021 có mean là khoảng 324k với std=28.87. Đầu năm 2022, người quản lý lấy ra danh sách 100 đơn hàng và tính mean, kết quả là 283k. Người này lo lắng doanh thu sẽ sụt giảm. Vậy tình trạng đó có đáng lo không?"
      ]
    },
    {
      "cell_type": "code",
      "execution_count": null,
      "id": "2029a0c0",
      "metadata": {
        "id": "2029a0c0"
      },
      "outputs": [],
      "source": [
        "test_statistic = 283\n",
        "mean = 324.29166418462876\n",
        "std  = 28.867498369962206\n",
        "alpha = 0.05 # (5%)"
      ]
    },
    {
      "cell_type": "markdown",
      "id": "5c53c190",
      "metadata": {
        "id": "5c53c190"
      },
      "source": [
        "# Các giả thuyết"
      ]
    },
    {
      "cell_type": "markdown",
      "id": "ff4b1918",
      "metadata": {
        "id": "ff4b1918"
      },
      "source": [
        "- **h0: `new_mean` vẫn là 324k** # Dữ liệu năm 2022 vẫn có khả năng cao là nằm trong phân bố cũ \n",
        "- **h1: `new_mean` != 324k** # Dữ liệu đầu năm 2022 có khả năng nằm trong một phân bố khác\n",
        "- **test_statistic: 283**"
      ]
    },
    {
      "cell_type": "markdown",
      "id": "aa85ea7b",
      "metadata": {
        "id": "aa85ea7b"
      },
      "source": [
        "![image.png](data:image/png;base64,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)"
      ]
    },
    {
      "cell_type": "markdown",
      "id": "ad42ec86",
      "metadata": {
        "id": "ad42ec86"
      },
      "source": [
        "# Tính p-Value"
      ]
    },
    {
      "cell_type": "code",
      "execution_count": null,
      "id": "49957c84",
      "metadata": {
        "id": "49957c84",
        "outputId": "802e3da6-3fac-4541-f359-fa594c6afc4e"
      },
      "outputs": [
        {
          "data": {
            "text/plain": [
              "0.07630313871827782"
            ]
          },
          "execution_count": 6,
          "metadata": {},
          "output_type": "execute_result"
        }
      ],
      "source": [
        "import scipy\n",
        "import scipy.stats as stats\n",
        "\n",
        "p_Value = stats.norm.cdf(test_statistic, \n",
        "                           loc=mean, \n",
        "                           scale=std\n",
        "                          )\n",
        "p_Value"
      ]
    },
    {
      "cell_type": "code",
      "execution_count": null,
      "id": "c89f9f67",
      "metadata": {
        "id": "c89f9f67",
        "outputId": "ef6d9af1-f793-4626-c87e-7d3c5e3f2aa0"
      },
      "outputs": [
        {
          "data": {
            "text/plain": [
              "True"
            ]
          },
          "execution_count": 7,
          "metadata": {},
          "output_type": "execute_result"
        }
      ],
      "source": [
        "# So sánh với alpha/2:\n",
        "p_Value/2 > 0.025 "
      ]
    },
    {
      "cell_type": "markdown",
      "id": "d267bbc0",
      "metadata": {
        "id": "d267bbc0"
      },
      "source": [
        "# Kết luận:\n",
        "**p is High, H0 is the guy! ;)**"
      ]
    }
  ],
  "metadata": {
    "kernelspec": {
      "display_name": "Python 3 (ipykernel)",
      "language": "python",
      "name": "python3"
    },
    "language_info": {
      "codemirror_mode": {
        "name": "ipython",
        "version": 3
      },
      "file_extension": ".py",
      "mimetype": "text/x-python",
      "name": "python",
      "nbconvert_exporter": "python",
      "pygments_lexer": "ipython3",
      "version": "3.9.7"
    },
    "colab": {
      "provenance": [],
      "include_colab_link": true
    }
  },
  "nbformat": 4,
  "nbformat_minor": 5
}